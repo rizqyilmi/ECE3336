{
  "nbformat": 4,
  "nbformat_minor": 0,
  "metadata": {
    "colab": {
      "name": "Assignment-11.ipynb",
      "provenance": [],
      "mount_file_id": "1XB2QlBqsJR_Fh2Vg4qzsiPx8OOJdy2Hd",
      "authorship_tag": "ABX9TyNGNfQoLXKFjWwcvP9CE6dL",
      "include_colab_link": true
    },
    "kernelspec": {
      "name": "python3",
      "display_name": "Python 3"
    }
  },
  "cells": [
    {
      "cell_type": "markdown",
      "metadata": {
        "id": "view-in-github",
        "colab_type": "text"
      },
      "source": [
        "<a href=\"https://colab.research.google.com/github/rizqyilmi/ECE3336/blob/master/Assignment_11.ipynb\" target=\"_parent\"><img src=\"https://colab.research.google.com/assets/colab-badge.svg\" alt=\"Open In Colab\"/></a>"
      ]
    },
    {
      "cell_type": "code",
      "metadata": {
        "colab": {
          "base_uri": "https://localhost:8080/"
        },
        "id": "xweHrMoqV1fs",
        "outputId": "13638a15-162f-49fa-fe00-4d1c0e682e3e"
      },
      "source": [
        "from google.colab import drive\n",
        "drive.mount('/content/drive')"
      ],
      "execution_count": 8,
      "outputs": [
        {
          "output_type": "stream",
          "text": [
            "Drive already mounted at /content/drive; to attempt to forcibly remount, call drive.mount(\"/content/drive\", force_remount=True).\n"
          ],
          "name": "stdout"
        }
      ]
    },
    {
      "cell_type": "code",
      "metadata": {
        "colab": {
          "base_uri": "https://localhost:8080/"
        },
        "id": "AyDkVUcXWAft",
        "outputId": "0114b892-4fd5-4029-c104-96a134c848e9"
      },
      "source": [
        "cd /content/drive/MyDrive/Colab Notebooks"
      ],
      "execution_count": 16,
      "outputs": [
        {
          "output_type": "stream",
          "text": [
            "/content/drive/MyDrive/Colab Notebooks\n"
          ],
          "name": "stdout"
        }
      ]
    },
    {
      "cell_type": "code",
      "metadata": {
        "colab": {
          "base_uri": "https://localhost:8080/"
        },
        "id": "5TUvDtF1WIc3",
        "outputId": "dd524391-4825-4504-dd3c-f1877ff06054"
      },
      "source": [
        "ls"
      ],
      "execution_count": 17,
      "outputs": [
        {
          "output_type": "stream",
          "text": [
            "Assignment-11.ipynb  \u001b[0m\u001b[01;34mdatadaun\u001b[0m/  Untitled0.ipynb\n"
          ],
          "name": "stdout"
        }
      ]
    },
    {
      "cell_type": "code",
      "metadata": {
        "id": "peJP4XreWKgq"
      },
      "source": [
        "# import the necessary packages\n",
        "from keras.models import Sequential\n",
        "from keras.layers.core import Activation\n",
        "from keras.layers.core import Flatten\n",
        "from keras.layers.core import Dense\n",
        "from keras.optimizers import Adam\n",
        "from sklearn.preprocessing import LabelBinarizer\n",
        "from sklearn.model_selection import train_test_split\n",
        "from sklearn.metrics import classification_report\n",
        "from PIL import Image\n",
        "from imutils import paths\n",
        "import numpy as np\n",
        "import os"
      ],
      "execution_count": 18,
      "outputs": []
    },
    {
      "cell_type": "code",
      "metadata": {
        "colab": {
          "base_uri": "https://localhost:8080/"
        },
        "id": "YTnTGdOSWNRc",
        "outputId": "2aae10cc-dd22-4814-f908-79a7c2759283"
      },
      "source": [
        "# grab all image paths in the input dataset directory, then initialize\n",
        "# our list of images and corresponding class labels\n",
        "print(\"[INFO] loading images...\")\n",
        "imagePaths = paths.list_images(\"datadaun\")\n",
        "data = []\n",
        "labels = []"
      ],
      "execution_count": 19,
      "outputs": [
        {
          "output_type": "stream",
          "text": [
            "[INFO] loading images...\n"
          ],
          "name": "stdout"
        }
      ]
    },
    {
      "cell_type": "code",
      "metadata": {
        "id": "_i1I9_pvWQJi"
      },
      "source": [
        "# loop over our input images\n",
        "for imagePath in imagePaths:\n",
        "\t# load the input image from disk, resize it to 64x64 pixels, scale\n",
        "\t# the pixel intensities to the range [0, 1], and then update our\n",
        "\t# images list\n",
        "\timage = Image.open(imagePath)\n",
        "  #preprocessing\n",
        "\timage = np.array(image.resize((64, 64))) / 255.0 #normalisasi\n",
        "\tdata.append(image)\n",
        "\n",
        "\t# extract the class label from the file path and update the\n",
        "\t# labels list\n",
        "\tlabel = imagePath.split(os.path.sep)[-2]\n",
        "\tlabels.append(label)"
      ],
      "execution_count": 20,
      "outputs": []
    },
    {
      "cell_type": "code",
      "metadata": {
        "colab": {
          "base_uri": "https://localhost:8080/"
        },
        "id": "_KihDHlFWScw",
        "outputId": "3e25905d-01a6-4413-9dd0-a3b2a3008cb2"
      },
      "source": [
        "print(labels)"
      ],
      "execution_count": 21,
      "outputs": [
        {
          "output_type": "stream",
          "text": [
            "['gambar1', 'gambar1', 'gambar1', 'gambar1', 'gambar1', 'gambar1', 'gambar1', 'gambar1', 'gambar1', 'gambar1', 'gambar1', 'gambar1', 'gambar1', 'gambar1', 'gambar1', 'gambar1', 'gambar1', 'gambar1', 'gambar1', 'gambar1', 'gambar1', 'gambar1', 'gambar1', 'gambar1', 'gambar1', 'gambar1', 'gambar1', 'gambar1', 'gambar1', 'gambar1', 'gambar1', 'gambar1', 'gambar1', 'gambar1', 'gambar1', 'gambar1', 'gambar1', 'gambar1', 'gambar1', 'gambar1', 'gambar1', 'gambar1', 'gambar1', 'gambar1', 'gambar1', 'gambar1', 'gambar1', 'gambar1', 'gambar1', 'gambar1', 'gambar1', 'gambar1', 'gambar1', 'gambar1', 'gambar1', 'gambar1', 'gambar1', 'gambar1', 'gambar1', 'gambar1', 'gambar1', 'gambar1', 'gambar1', 'gambar1', 'gambar1', 'gambar1', 'gambar1', 'gambar1', 'gambar1', 'gambar1', 'gambar1', 'gambar1', 'gambar1', 'gambar1', 'gambar1', 'gambar1', 'gambar1', 'gambar1', 'gambar1', 'gambar1', 'gambar1', 'gambar1', 'gambar1', 'gambar1', 'gambar1', 'gambar1', 'gambar1', 'gambar1', 'gambar1', 'gambar1', 'gambar1', 'gambar1', 'gambar1', 'gambar1', 'gambar1', 'gambar1', 'gambar1', 'gambar1', 'gambar1', 'gambar1', 'gambar1', 'gambar1', 'gambar1', 'gambar1', 'gambar1', 'gambar1', 'gambar1', 'gambar1', 'gambar1', 'gambar1', 'gambar1', 'gambar1', 'gambar1', 'gambar1', 'gambar1', 'gambar1', 'gambar2', 'gambar2', 'gambar2', 'gambar2', 'gambar2', 'gambar2', 'gambar2', 'gambar2', 'gambar2', 'gambar2', 'gambar2', 'gambar2', 'gambar2', 'gambar2', 'gambar2', 'gambar2', 'gambar2', 'gambar2', 'gambar2', 'gambar2', 'gambar2', 'gambar2', 'gambar2', 'gambar2', 'gambar2', 'gambar2', 'gambar2', 'gambar2', 'gambar2', 'gambar2', 'gambar2', 'gambar2', 'gambar2', 'gambar2', 'gambar2', 'gambar2', 'gambar2', 'gambar2', 'gambar2', 'gambar2', 'gambar2', 'gambar2', 'gambar2', 'gambar2', 'gambar2', 'gambar2', 'gambar2', 'gambar2', 'gambar2', 'gambar2', 'gambar2', 'gambar2', 'gambar2', 'gambar2', 'gambar2', 'gambar2', 'gambar2', 'gambar2', 'gambar2', 'gambar2', 'gambar2', 'gambar2', 'gambar2', 'gambar2', 'gambar2', 'gambar2', 'gambar2', 'gambar2', 'gambar2', 'gambar2', 'gambar2', 'gambar2', 'gambar2', 'gambar2', 'gambar2', 'gambar2', 'gambar2', 'gambar2', 'gambar2', 'gambar2', 'gambar2', 'gambar2', 'gambar2', 'gambar2', 'gambar2', 'gambar2', 'gambar2', 'gambar2', 'gambar2', 'gambar2', 'gambar2', 'gambar2', 'gambar2', 'gambar2', 'gambar2', 'gambar2', 'gambar2', 'gambar2', 'gambar2', 'gambar2', 'gambar2', 'gambar2', 'gambar2', 'gambar2', 'gambar2', 'gambar2', 'gambar2', 'gambar2', 'gambar2', 'gambar2', 'gambar2', 'gambar2', 'gambar3', 'gambar3', 'gambar3', 'gambar3', 'gambar3', 'gambar3', 'gambar3', 'gambar3', 'gambar3', 'gambar3', 'gambar3', 'gambar3', 'gambar3', 'gambar3', 'gambar3', 'gambar3', 'gambar3', 'gambar3', 'gambar3', 'gambar3', 'gambar3', 'gambar3', 'gambar3', 'gambar3', 'gambar3', 'gambar3', 'gambar3', 'gambar3', 'gambar3', 'gambar3', 'gambar3', 'gambar3', 'gambar3', 'gambar3', 'gambar3', 'gambar3', 'gambar3', 'gambar3', 'gambar3', 'gambar3', 'gambar3', 'gambar3', 'gambar3', 'gambar3', 'gambar3', 'gambar3', 'gambar3', 'gambar3', 'gambar3', 'gambar3', 'gambar3', 'gambar3', 'gambar3', 'gambar3', 'gambar3', 'gambar3', 'gambar3', 'gambar3', 'gambar3', 'gambar3', 'gambar3', 'gambar3', 'gambar3', 'gambar3', 'gambar3', 'gambar3', 'gambar3', 'gambar3', 'gambar3', 'gambar3', 'gambar3', 'gambar3', 'gambar3', 'gambar3', 'gambar3', 'gambar3', 'gambar3', 'gambar3', 'gambar3', 'gambar3', 'gambar3', 'gambar3', 'gambar3', 'gambar3', 'gambar3', 'gambar3', 'gambar3', 'gambar3', 'gambar3', 'gambar3', 'gambar3', 'gambar3', 'gambar3', 'gambar3', 'gambar3', 'gambar3', 'gambar3', 'gambar3', 'gambar3', 'gambar3', 'gambar3', 'gambar3', 'gambar3', 'gambar3', 'gambar3', 'gambar3', 'gambar3', 'gambar3', 'gambar3', 'gambar3', 'gambar3', 'gambar3', 'gambar3', 'gambar3', 'gambar3', 'gambar3', 'gambar3', 'gambar3', 'gambar3', 'gambar3', 'gambar3', 'gambar4', 'gambar4', 'gambar4', 'gambar4', 'gambar4', 'gambar4', 'gambar4', 'gambar4', 'gambar4', 'gambar4', 'gambar4', 'gambar4', 'gambar4', 'gambar4', 'gambar4', 'gambar4', 'gambar4', 'gambar4', 'gambar4', 'gambar4', 'gambar4', 'gambar4', 'gambar4', 'gambar4', 'gambar4', 'gambar4', 'gambar4', 'gambar4', 'gambar4', 'gambar4', 'gambar4', 'gambar4', 'gambar4', 'gambar4', 'gambar4', 'gambar4', 'gambar4', 'gambar4', 'gambar4', 'gambar4', 'gambar4', 'gambar4', 'gambar4', 'gambar4', 'gambar4', 'gambar4', 'gambar4', 'gambar4', 'gambar4', 'gambar4', 'gambar4', 'gambar4', 'gambar4', 'gambar4', 'gambar4', 'gambar4', 'gambar4', 'gambar4', 'gambar4', 'gambar4', 'gambar4', 'gambar4', 'gambar4', 'gambar4', 'gambar4', 'gambar4', 'gambar4', 'gambar4', 'gambar4', 'gambar4', 'gambar4', 'gambar4', 'gambar4', 'gambar4', 'gambar4', 'gambar4', 'gambar4', 'gambar4', 'gambar4', 'gambar4', 'gambar4', 'gambar4', 'gambar4', 'gambar4', 'gambar4', 'gambar4', 'gambar4', 'gambar4', 'gambar4', 'gambar4', 'gambar4', 'gambar4', 'gambar4', 'gambar4', 'gambar4', 'gambar4', 'gambar4', 'gambar4', 'gambar4', 'gambar4', 'gambar4', 'gambar4', 'gambar4', 'gambar4', 'gambar4', 'gambar4', 'gambar4', 'gambar4', 'gambar4', 'gambar4', 'gambar4', 'gambar4', 'gambar4', 'gambar4', 'gambar4', 'gambar4', 'gambar4', 'gambar5', 'gambar5', 'gambar5', 'gambar5', 'gambar5', 'gambar5', 'gambar5', 'gambar5', 'gambar5', 'gambar5', 'gambar5', 'gambar5', 'gambar5', 'gambar5', 'gambar5', 'gambar5', 'gambar5', 'gambar5', 'gambar5', 'gambar5', 'gambar5', 'gambar5', 'gambar5', 'gambar5', 'gambar5', 'gambar5', 'gambar5', 'gambar5', 'gambar5', 'gambar5', 'gambar5', 'gambar5', 'gambar5', 'gambar5', 'gambar5', 'gambar5', 'gambar5', 'gambar5', 'gambar5', 'gambar5', 'gambar5', 'gambar5', 'gambar5', 'gambar5', 'gambar5', 'gambar5', 'gambar5', 'gambar5', 'gambar5', 'gambar5', 'gambar5', 'gambar5', 'gambar5', 'gambar5', 'gambar5', 'gambar5', 'gambar5', 'gambar5', 'gambar5', 'gambar5', 'gambar5', 'gambar5', 'gambar5', 'gambar5', 'gambar5', 'gambar5', 'gambar5', 'gambar5', 'gambar5', 'gambar5', 'gambar5', 'gambar5', 'gambar5', 'gambar5', 'gambar5', 'gambar5', 'gambar5', 'gambar5', 'gambar5', 'gambar5', 'gambar5', 'gambar5', 'gambar5', 'gambar5', 'gambar5', 'gambar5', 'gambar5', 'gambar5', 'gambar5', 'gambar5', 'gambar5', 'gambar5', 'gambar5', 'gambar5', 'gambar5', 'gambar5', 'gambar5', 'gambar5', 'gambar5', 'gambar5', 'gambar5', 'gambar5', 'gambar5', 'gambar5', 'gambar5', 'gambar5', 'gambar5', 'gambar5', 'gambar5', 'gambar5', 'gambar5', 'gambar5', 'gambar5', 'gambar5', 'gambar5', 'gambar5', 'gambar5', 'gambar5', 'gambar5', 'gambar5', 'gambar5', 'gambar5', 'gambar5', 'gambar5', 'gambar5', 'gambar5', 'gambar5', 'gambar5', 'gambar5']\n"
          ],
          "name": "stdout"
        }
      ]
    },
    {
      "cell_type": "code",
      "metadata": {
        "id": "GsDAaYMkWVK7"
      },
      "source": [
        "# encode the labels, converting them from strings to integers\n",
        "lb = LabelBinarizer()\n",
        "labels = lb.fit_transform(labels)"
      ],
      "execution_count": 22,
      "outputs": []
    },
    {
      "cell_type": "code",
      "metadata": {
        "colab": {
          "base_uri": "https://localhost:8080/"
        },
        "id": "mGaj9j4s_dDB",
        "outputId": "8d265f79-a473-45dc-98a5-f6f233c56fa1"
      },
      "source": [
        "print(labels)"
      ],
      "execution_count": 23,
      "outputs": [
        {
          "output_type": "stream",
          "text": [
            "[[1 0 0 0 0]\n",
            " [1 0 0 0 0]\n",
            " [1 0 0 0 0]\n",
            " ...\n",
            " [0 0 0 0 1]\n",
            " [0 0 0 0 1]\n",
            " [0 0 0 0 1]]\n"
          ],
          "name": "stdout"
        }
      ]
    },
    {
      "cell_type": "code",
      "metadata": {
        "colab": {
          "base_uri": "https://localhost:8080/"
        },
        "id": "PzDc5kEp_dM0",
        "outputId": "cf10b819-6863-47e2-d21b-50aa98d27f49"
      },
      "source": [
        "# perform a training and testing split, using 75% of the data for\n",
        "# training and 25% for evaluation\n",
        "(trainX, testX, trainY, testY) = train_test_split(np.array(data),\tnp.array(labels), test_size=0.25, shuffle=True)\n",
        "print(trainX.shape)\n",
        "print(testX.shape)"
      ],
      "execution_count": 24,
      "outputs": [
        {
          "output_type": "stream",
          "text": [
            "(446, 64, 64, 3)\n",
            "(149, 64, 64, 3)\n"
          ],
          "name": "stdout"
        }
      ]
    },
    {
      "cell_type": "code",
      "metadata": {
        "id": "p1t65NaiOkgI"
      },
      "source": [
        ""
      ],
      "execution_count": null,
      "outputs": []
    },
    {
      "cell_type": "code",
      "metadata": {
        "colab": {
          "base_uri": "https://localhost:8080/"
        },
        "id": "7NiD7dqO_dQg",
        "outputId": "1959dc35-80fa-4050-b0ee-9fae74ddb627"
      },
      "source": [
        "from keras.layers import Convolution2D, MaxPooling2D\n",
        "from keras.models import Sequential\n",
        "from keras.layers.core import Flatten, Dense\n",
        "\n",
        "model1 = Sequential()\n",
        "model1.add(Convolution2D(8, (3,3), activation='relu', input_shape=(64,64,3)))\n",
        "model1.add(MaxPool2D(2,2))\n",
        "model1.add(Convolution2D(16, (3,3), activation='relu'))\n",
        "model1.add(MaxPool2D(2,2))\n",
        "#fully connected layer\n",
        "model1.add(Flatten())\n",
        "model1.add(Dense(100, activation='relu'))\n",
        "model1.add(Dense(5, activation='softmax'))\n",
        "\n",
        "model1.summary()"
      ],
      "execution_count": 59,
      "outputs": [
        {
          "output_type": "stream",
          "text": [
            "Model: \"sequential_12\"\n",
            "_________________________________________________________________\n",
            "Layer (type)                 Output Shape              Param #   \n",
            "=================================================================\n",
            "conv2d_17 (Conv2D)           (None, 62, 62, 8)         224       \n",
            "_________________________________________________________________\n",
            "max_pooling2d_14 (MaxPooling (None, 31, 31, 8)         0         \n",
            "_________________________________________________________________\n",
            "conv2d_18 (Conv2D)           (None, 29, 29, 16)        1168      \n",
            "_________________________________________________________________\n",
            "max_pooling2d_15 (MaxPooling (None, 14, 14, 16)        0         \n",
            "_________________________________________________________________\n",
            "flatten_9 (Flatten)          (None, 3136)              0         \n",
            "_________________________________________________________________\n",
            "dense_14 (Dense)             (None, 100)               313700    \n",
            "_________________________________________________________________\n",
            "dense_15 (Dense)             (None, 5)                 505       \n",
            "=================================================================\n",
            "Total params: 315,597\n",
            "Trainable params: 315,597\n",
            "Non-trainable params: 0\n",
            "_________________________________________________________________\n"
          ],
          "name": "stdout"
        }
      ]
    },
    {
      "cell_type": "code",
      "metadata": {
        "colab": {
          "base_uri": "https://localhost:8080/"
        },
        "id": "RFc5P6Ro_dZM",
        "outputId": "fb095fad-aada-4f32-f69c-6c301644ed11"
      },
      "source": [
        "# train the model using the Adam optimizer\n",
        "print(\"[INFO] training network...\")\n",
        "opt = Adam(lr=1e-3, decay=1e-3 / 50)\n",
        "model1.compile(loss=\"categorical_crossentropy\", optimizer=opt, metrics=[\"accuracy\"])"
      ],
      "execution_count": 60,
      "outputs": [
        {
          "output_type": "stream",
          "text": [
            "[INFO] training network...\n"
          ],
          "name": "stdout"
        }
      ]
    },
    {
      "cell_type": "code",
      "metadata": {
        "colab": {
          "base_uri": "https://localhost:8080/"
        },
        "id": "3bbMakb0w-XZ",
        "outputId": "5d4a9736-59f9-4a7d-9cbe-f7c20eda67d5"
      },
      "source": [
        "H = model1.fit(trainX, trainY, validation_data=(testX, testY), epochs=25, batch_size=32)"
      ],
      "execution_count": 61,
      "outputs": [
        {
          "output_type": "stream",
          "text": [
            "Epoch 1/25\n",
            "14/14 [==============================] - 1s 76ms/step - loss: 1.6332 - accuracy: 0.2018 - val_loss: 1.5811 - val_accuracy: 0.2349\n",
            "Epoch 2/25\n",
            "14/14 [==============================] - 1s 67ms/step - loss: 1.5546 - accuracy: 0.3610 - val_loss: 1.5022 - val_accuracy: 0.4430\n",
            "Epoch 3/25\n",
            "14/14 [==============================] - 1s 68ms/step - loss: 1.4011 - accuracy: 0.4664 - val_loss: 1.3692 - val_accuracy: 0.4161\n",
            "Epoch 4/25\n",
            "14/14 [==============================] - 1s 67ms/step - loss: 1.2576 - accuracy: 0.5112 - val_loss: 1.2332 - val_accuracy: 0.5369\n",
            "Epoch 5/25\n",
            "14/14 [==============================] - 1s 67ms/step - loss: 1.1370 - accuracy: 0.5852 - val_loss: 1.0995 - val_accuracy: 0.5503\n",
            "Epoch 6/25\n",
            "14/14 [==============================] - 1s 68ms/step - loss: 0.9780 - accuracy: 0.6413 - val_loss: 0.9911 - val_accuracy: 0.5772\n",
            "Epoch 7/25\n",
            "14/14 [==============================] - 1s 68ms/step - loss: 0.8651 - accuracy: 0.7152 - val_loss: 0.9531 - val_accuracy: 0.5772\n",
            "Epoch 8/25\n",
            "14/14 [==============================] - 1s 68ms/step - loss: 0.7532 - accuracy: 0.7399 - val_loss: 0.8939 - val_accuracy: 0.6174\n",
            "Epoch 9/25\n",
            "14/14 [==============================] - 1s 68ms/step - loss: 0.7117 - accuracy: 0.7444 - val_loss: 0.9764 - val_accuracy: 0.6242\n",
            "Epoch 10/25\n",
            "14/14 [==============================] - 1s 68ms/step - loss: 0.6641 - accuracy: 0.7691 - val_loss: 0.8221 - val_accuracy: 0.6644\n",
            "Epoch 11/25\n",
            "14/14 [==============================] - 1s 69ms/step - loss: 0.5953 - accuracy: 0.8004 - val_loss: 0.7945 - val_accuracy: 0.6779\n",
            "Epoch 12/25\n",
            "14/14 [==============================] - 1s 68ms/step - loss: 0.5436 - accuracy: 0.8229 - val_loss: 0.7281 - val_accuracy: 0.7517\n",
            "Epoch 13/25\n",
            "14/14 [==============================] - 1s 69ms/step - loss: 0.4866 - accuracy: 0.8430 - val_loss: 0.6989 - val_accuracy: 0.7450\n",
            "Epoch 14/25\n",
            "14/14 [==============================] - 1s 67ms/step - loss: 0.4615 - accuracy: 0.8565 - val_loss: 0.7274 - val_accuracy: 0.7114\n",
            "Epoch 15/25\n",
            "14/14 [==============================] - 1s 69ms/step - loss: 0.4201 - accuracy: 0.8453 - val_loss: 0.6608 - val_accuracy: 0.7584\n",
            "Epoch 16/25\n",
            "14/14 [==============================] - 1s 70ms/step - loss: 0.3584 - accuracy: 0.9036 - val_loss: 0.6408 - val_accuracy: 0.7785\n",
            "Epoch 17/25\n",
            "14/14 [==============================] - 1s 67ms/step - loss: 0.3177 - accuracy: 0.9013 - val_loss: 0.5724 - val_accuracy: 0.7919\n",
            "Epoch 18/25\n",
            "14/14 [==============================] - 1s 69ms/step - loss: 0.2635 - accuracy: 0.9283 - val_loss: 0.5850 - val_accuracy: 0.7919\n",
            "Epoch 19/25\n",
            "14/14 [==============================] - 1s 67ms/step - loss: 0.2598 - accuracy: 0.9238 - val_loss: 0.6554 - val_accuracy: 0.7785\n",
            "Epoch 20/25\n",
            "14/14 [==============================] - 1s 69ms/step - loss: 0.2235 - accuracy: 0.9417 - val_loss: 0.5588 - val_accuracy: 0.8121\n",
            "Epoch 21/25\n",
            "14/14 [==============================] - 1s 68ms/step - loss: 0.2066 - accuracy: 0.9462 - val_loss: 0.5895 - val_accuracy: 0.8054\n",
            "Epoch 22/25\n",
            "14/14 [==============================] - 1s 69ms/step - loss: 0.1603 - accuracy: 0.9641 - val_loss: 0.5402 - val_accuracy: 0.8121\n",
            "Epoch 23/25\n",
            "14/14 [==============================] - 1s 68ms/step - loss: 0.1379 - accuracy: 0.9731 - val_loss: 0.5434 - val_accuracy: 0.8121\n",
            "Epoch 24/25\n",
            "14/14 [==============================] - 1s 69ms/step - loss: 0.1199 - accuracy: 0.9821 - val_loss: 0.5466 - val_accuracy: 0.8121\n",
            "Epoch 25/25\n",
            "14/14 [==============================] - 1s 70ms/step - loss: 0.1057 - accuracy: 0.9843 - val_loss: 0.5672 - val_accuracy: 0.8054\n"
          ],
          "name": "stdout"
        }
      ]
    },
    {
      "cell_type": "code",
      "metadata": {
        "colab": {
          "base_uri": "https://localhost:8080/",
          "height": 590
        },
        "id": "MTlMTemsVQtn",
        "outputId": "82318171-6b63-493b-9ada-619d9eda449b"
      },
      "source": [
        "import matplotlib.pyplot as plt\n",
        "\n",
        "print(H.history.keys())\n",
        "# summarize history for accuracy\n",
        "plt.plot(H.history['accuracy'])\n",
        "plt.plot(H.history['val_accuracy'])\n",
        "plt.title('model accuracy')\n",
        "plt.ylabel('accuracy')\n",
        "plt.xlabel('epoch')\n",
        "plt.legend(['train', 'test'], loc='upper left')\n",
        "plt.show()\n",
        "# summarize history for loss\n",
        "plt.plot(H.history['loss'])\n",
        "plt.plot(H.history['val_loss'])\n",
        "plt.title('model loss')\n",
        "plt.ylabel('loss')\n",
        "plt.xlabel('epoch')\n",
        "plt.legend(['train', 'test'], loc='upper left')\n",
        "plt.show()"
      ],
      "execution_count": 62,
      "outputs": [
        {
          "output_type": "stream",
          "text": [
            "dict_keys(['loss', 'accuracy', 'val_loss', 'val_accuracy'])\n"
          ],
          "name": "stdout"
        },
        {
          "output_type": "display_data",
          "data": {
            "image/png": "[encoded data removed]",
            "text/plain": [
              "<Figure size 432x288 with 1 Axes>"
            ]
          },
          "metadata": {
            "tags": [],
            "needs_background": "light"
          }
        },
        {
          "output_type": "display_data",
          "data": {
            "image/png": "[encoded data removed]",
            "text/plain": [
              "<Figure size 432x288 with 1 Axes>"
            ]
          },
          "metadata": {
            "tags": [],
            "needs_background": "light"
          }
        }
      ]
    },
    {
      "cell_type": "code",
      "metadata": {
        "colab": {
          "base_uri": "https://localhost:8080/"
        },
        "id": "x4spfhMCd5Ze",
        "outputId": "8c044671-37ea-4285-d88f-2bc79f3816b3"
      },
      "source": [
        "# evaluate the network\n",
        "print(\"[INFO] evaluating network...\")\n",
        "predictions = model1.predict(testX, batch_size=32)\n",
        "print(classification_report(testY.argmax(axis=1),\n",
        "\tpredictions.argmax(axis=1), target_names=lb.classes_))"
      ],
      "execution_count": 63,
      "outputs": [
        {
          "output_type": "stream",
          "text": [
            "[INFO] evaluating network...\n",
            "              precision    recall  f1-score   support\n",
            "\n",
            "     gambar1       0.72      0.82      0.77        28\n",
            "     gambar2       0.96      0.86      0.91        28\n",
            "     gambar3       0.73      0.63      0.68        30\n",
            "     gambar4       1.00      0.96      0.98        28\n",
            "     gambar5       0.69      0.77      0.73        35\n",
            "\n",
            "    accuracy                           0.81       149\n",
            "   macro avg       0.82      0.81      0.81       149\n",
            "weighted avg       0.81      0.81      0.81       149\n",
            "\n"
          ],
          "name": "stdout"
        }
      ]
    },
    {
      "cell_type": "code",
      "metadata": {
        "colab": {
          "base_uri": "https://localhost:8080/"
        },
        "id": "i42zwJhkd-RT",
        "outputId": "b28c6ce5-7706-40e3-932e-5a0a3b6437b0"
      },
      "source": [
        "model.save('nnmodel_scene')"
      ],
      "execution_count": 64,
      "outputs": [
        {
          "output_type": "stream",
          "text": [
            "WARNING:tensorflow:From /usr/local/lib/python3.6/dist-packages/tensorflow/python/training/tracking/tracking.py:111: Model.state_updates (from tensorflow.python.keras.engine.training) is deprecated and will be removed in a future version.\n",
            "Instructions for updating:\n",
            "This property should not be used in TensorFlow 2.0, as updates are applied automatically.\n",
            "WARNING:tensorflow:From /usr/local/lib/python3.6/dist-packages/tensorflow/python/training/tracking/tracking.py:111: Layer.updates (from tensorflow.python.keras.engine.base_layer) is deprecated and will be removed in a future version.\n",
            "Instructions for updating:\n",
            "This property should not be used in TensorFlow 2.0, as updates are applied automatically.\n",
            "INFO:tensorflow:Assets written to: nnmodel_scene/assets\n"
          ],
          "name": "stdout"
        }
      ]
    },
    {
      "cell_type": "code",
      "metadata": {
        "id": "qRSNt7DyfWSW"
      },
      "source": [
        ""
      ],
      "execution_count": null,
      "outputs": []
    }
  ]
}
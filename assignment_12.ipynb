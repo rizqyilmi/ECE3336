{
  "nbformat": 4,
  "nbformat_minor": 0,
  "metadata": {
    "colab": {
      "name": "assignment 12.ipynb",
      "provenance": [],
      "authorship_tag": "ABX9TyPvK0fHce9kHGcg9VRdrk5V",
      "include_colab_link": true
    },
    "kernelspec": {
      "name": "python3",
      "display_name": "Python 3"
    }
  },
  "cells": [
    {
      "cell_type": "markdown",
      "metadata": {
        "id": "view-in-github",
        "colab_type": "text"
      },
      "source": [
        "<a href=\"https://colab.research.google.com/github/rizqyilmi/ECE3336/blob/master/assignment_12.ipynb\" target=\"_parent\"><img src=\"https://colab.research.google.com/assets/colab-badge.svg\" alt=\"Open In Colab\"/></a>"
      ]
    },
    {
      "cell_type": "code",
      "metadata": {
        "id": "jJF5jkwLNBPd"
      },
      "source": [
        "import numpy as np\r\n"
      ],
      "execution_count": 6,
      "outputs": []
    },
    {
      "cell_type": "code",
      "metadata": {
        "id": "CLYMRhbpKglJ"
      },
      "source": [
        "#Inisialisasi fungsi\r\n",
        "#Rizqy Ilmi Punya\r\n",
        "#\r\n",
        "def LpCOST231(d,fc,type,ht,hr):\r\n",
        "  #Mencari a(hR)\r\n",
        "  a = (1.1*np.log10(fc)*hr) - (1.56*np.log10(fc)-0.8)\r\n",
        "  #Mencari C1 dan C2\r\n",
        "  C1 = 69.55 if 400 < fc <= 1500 else 46.3\r\n",
        "  C2 = 26.16 if 400 < fc <= 1500 else 33.9\r\n",
        "  #Mencari Cm\r\n",
        "  Cm = 0 if type == 'Urban' else (-2*(np.log10(fc/28))**2 if type == 'Suburban' else (-4.78*(np.log10(fc))**2) +(18.33*np.log10(fc)-40.94) if type =='Open' else -10000000000)\r\n",
        "  #Mencari pathloss dalam dB\r\n",
        "  Lp= C1 + (C2*np.log10(fc)) - (13.83*np.log10(ht)) - a + ((44.9 - 6.55*np.log(ht))*np.log10(d)) +Cm \r\n",
        "\r\n",
        "  return Lp\r\n"
      ],
      "execution_count": 41,
      "outputs": []
    },
    {
      "cell_type": "code",
      "metadata": {
        "colab": {
          "base_uri": "https://localhost:8080/"
        },
        "id": "MN8A9wDEMbmE",
        "outputId": "c04a5edd-2709-464b-c882-4eec0bc4e7d3"
      },
      "source": [
        "#Example\r\n",
        "#THis program provide a simple typo detection. If you find the answer is ridiculous, then you make a typo or does not put the right measurement Unit\r\n",
        "#Tips : Dont forget to put \"\" or '' on the Type of Area\r\n",
        "Pathloss = LpCOST231(1,1,'open',4,5)\r\n",
        "print(Pathloss)\r\n"
      ],
      "execution_count": 43,
      "outputs": [
        {
          "output_type": "stream",
          "text": [
            "-9999999962.82649\n"
          ],
          "name": "stdout"
        }
      ]
    },
    {
      "cell_type": "code",
      "metadata": {
        "id": "yjftTL7hMyaV"
      },
      "source": [
        ""
      ],
      "execution_count": null,
      "outputs": []
    }
  ]
}